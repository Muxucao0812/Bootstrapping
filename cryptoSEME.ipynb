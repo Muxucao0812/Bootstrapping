{
 "cells": [
  {
   "cell_type": "markdown",
   "metadata": {},
   "source": [
    "# <center> Homomorphic Encryption and Bootstrapping\n",
    "    \n",
    "### Date: May 02 - May 06 2022\n",
    "\n",
    "### Authors: \n",
    "- Njaka ANDRIAMANDRATOMANANA\n",
    "- Elie CHEDEMAIL\n",
    "- Adéchola KOUANDE\n",
    "- Rémi LELUC\n",
    "- Quyen NGUYEN"
   ]
  },
  {
   "cell_type": "markdown",
   "metadata": {},
   "source": [
    "### Import libraries"
   ]
  },
  {
   "cell_type": "code",
   "execution_count": 1,
   "metadata": {},
   "outputs": [],
   "source": [
    "import numpy as np\n",
    "from math import log,floor\n",
    "from scipy.stats import norm\n",
    "import matplotlib.pyplot as plt\n",
    "from tqdm.notebook import tqdm\n",
    "\n",
    "#Tool functions for FHE\n",
    "from utils import draw_from_binary,draw_from_integer,draw_from_normal\n",
    "from utils import mod, base_decomp, base_decomp_vec, draw_from_integer_vec\n",
    "\n",
    "from fhe import LWE, inv_LWE\n",
    "from fhe import RLWE,inv_RLWE,RLWE_prod\n",
    "from fhe import RGSW,prod_ext\n",
    "\n",
    "from utils import draw_from_binary_vec\n",
    "from bootstrap import get_BK, accu_AP, extract_RLWE, key_switch\n",
    "from bootstrap import get_BK_dec, accu_AP_dec"
   ]
  },
  {
   "cell_type": "markdown",
   "metadata": {},
   "source": [
    "### Test basic functions"
   ]
  },
  {
   "cell_type": "code",
   "execution_count": 2,
   "metadata": {},
   "outputs": [
    {
     "data": {
      "text/plain": [
       "poly1d([1, 1, 0, 1, 0])"
      ]
     },
     "execution_count": 2,
     "metadata": {},
     "output_type": "execute_result"
    }
   ],
   "source": [
    "np.random.seed(1234)\n",
    "P = draw_from_binary(n=4)\n",
    "P"
   ]
  },
  {
   "cell_type": "code",
   "execution_count": 3,
   "metadata": {},
   "outputs": [
    {
     "data": {
      "text/plain": [
       "array([1, 1, 0, 1, 0])"
      ]
     },
     "execution_count": 3,
     "metadata": {},
     "output_type": "execute_result"
    }
   ],
   "source": [
    "P.coef"
   ]
  },
  {
   "cell_type": "markdown",
   "metadata": {},
   "source": [
    "represents polynomial: $1x^4 + 1x^3 + 0x^2 + 1x^1 + 0$"
   ]
  },
  {
   "cell_type": "code",
   "execution_count": 4,
   "metadata": {},
   "outputs": [
    {
     "data": {
      "text/plain": [
       "poly1d([3, 3, 2, 1, 0, 0, 0, 1, 3])"
      ]
     },
     "execution_count": 4,
     "metadata": {},
     "output_type": "execute_result"
    }
   ],
   "source": [
    "np.random.seed(1234)\n",
    "draw_from_integer(n=8,q=4)"
   ]
  },
  {
   "cell_type": "code",
   "execution_count": 5,
   "metadata": {},
   "outputs": [
    {
     "data": {
      "text/plain": [
       "poly1d([1, 1, 0, 2, 2, 2, 2, 2, 0, 2, 2, 2, 2, 2, 2, 0, 1, 1, 0, 0, 0, 2,\n",
       "       0, 1, 0, 2, 1, 2, 0, 2, 2, 1, 2])"
      ]
     },
     "execution_count": 5,
     "metadata": {},
     "output_type": "execute_result"
    }
   ],
   "source": [
    "np.random.seed(1234)\n",
    "draw_from_normal(n=32, q=3, loc=0, scale=2)"
   ]
  },
  {
   "cell_type": "markdown",
   "metadata": {},
   "source": [
    "### Test RLWE function to perform homomorphic encryption/decryption"
   ]
  },
  {
   "cell_type": "code",
   "execution_count": 6,
   "metadata": {},
   "outputs": [
    {
     "name": "stdout",
     "output_type": "stream",
     "text": [
      "Secret Key\n"
     ]
    },
    {
     "data": {
      "text/plain": [
       "poly1d([1, 1, 1, 0, 1, 1, 0, 0, 0, 1, 0, 0, 1, 1, 0, 0, 0])"
      ]
     },
     "execution_count": 6,
     "metadata": {},
     "output_type": "execute_result"
    }
   ],
   "source": [
    "# security parameters\n",
    "N = int(2**8)\n",
    "q = int(2**5)\n",
    "𝜎 = 1\n",
    "t = 2\n",
    "s = draw_from_binary(n=N)\n",
    "m_test = draw_from_binary(n=int(2**4))\n",
    "print(\"Secret Key\")\n",
    "m_test"
   ]
  },
  {
   "cell_type": "code",
   "execution_count": 7,
   "metadata": {},
   "outputs": [
    {
     "data": {
      "text/plain": [
       "poly1d([12, 26, 14,  4,  6, 11,  5, 15,  1, 18,  1, 16, 29, 28,  4, 25, 25,\n",
       "       21,  1,  4, 15, 17,  7,  3,  4,  1,  0, 20,  7, 20, 20, 11,  4, 31,\n",
       "        7,  4,  7, 31, 15,  4,  0, 12, 15, 14,  4, 17, 27,  1, 24, 29, 10,\n",
       "       26,  6, 28, 23, 18, 20,  2, 16,  1,  3, 23,  9,  1, 18,  6, 24,  0,\n",
       "       11,  0, 31, 27, 22, 29, 14,  3, 15, 21,  3, 10, 30, 23, 16,  0, 19,\n",
       "       16,  6, 17,  2,  0,  2, 11, 15,  7, 29, 31, 25, 23, 25,  9, 18, 20,\n",
       "        0, 27, 22,  4, 26, 16, 11, 14,  6, 28, 26,  4,  0, 30,  6,  6, 23,\n",
       "        8, 27, 18,  0,  8, 15, 12, 31, 25, 22,  5, 16,  0, 24, 25,  2, 16,\n",
       "        2, 10, 13, 15,  9,  8, 25,  7, 30, 17,  5, 14,  8, 12, 21, 14, 13,\n",
       "       24, 27, 30, 19, 21, 15, 11,  9, 13, 16, 10, 19,  8,  8, 23,  5, 21,\n",
       "       12, 23, 10, 18,  8,  6, 17,  3, 26,  9, 14, 31, 25, 20, 10, 12, 24,\n",
       "       28,  4,  0, 29,  6,  8, 17, 10,  8, 18, 29, 26, 14,  4, 12, 28,  8,\n",
       "       10, 19,  9, 11, 22, 12, 15,  5, 22, 19,  0, 20, 20,  1,  2, 12,  0,\n",
       "       20, 22, 11, 17,  1, 10, 18, 19,  1, 12, 16, 27, 25, 30, 23, 21, 19,\n",
       "       14,  6, 10,  9, 27,  6, 31,  4,  4,  0,  2, 21, 31, 18,  7, 26, 27,\n",
       "       21])"
      ]
     },
     "execution_count": 7,
     "metadata": {},
     "output_type": "execute_result"
    }
   ],
   "source": [
    "# perform encryption\n",
    "a_cifer,b_cifer = RLWE(n=N,q=q,𝜎=𝜎,s=s,t=t,m=m_test)\n",
    "# display cifer message\n",
    "b_cifer"
   ]
  },
  {
   "cell_type": "code",
   "execution_count": 8,
   "metadata": {},
   "outputs": [
    {
     "data": {
      "text/plain": [
       "256"
      ]
     },
     "execution_count": 8,
     "metadata": {},
     "output_type": "execute_result"
    }
   ],
   "source": [
    "len(a_cifer)"
   ]
  },
  {
   "cell_type": "code",
   "execution_count": 9,
   "metadata": {},
   "outputs": [
    {
     "data": {
      "text/plain": [
       "poly1d([1, 1, 1, 0, 1, 1, 0, 0, 0, 1, 0, 0, 1, 1, 0, 0, 0])"
      ]
     },
     "execution_count": 9,
     "metadata": {},
     "output_type": "execute_result"
    }
   ],
   "source": [
    "m_test"
   ]
  },
  {
   "cell_type": "code",
   "execution_count": 10,
   "metadata": {},
   "outputs": [
    {
     "name": "stdout",
     "output_type": "stream",
     "text": [
      "Decoding Successful ? True\n"
     ]
    }
   ],
   "source": [
    "m_decifer = inv_RLWE(n=N,a=a_cifer,b=b_cifer,s=s,q=q,t=t)\n",
    "m_decifer\n",
    "print(\"Decoding Successful ?\", m_test==m_decifer)"
   ]
  },
  {
   "cell_type": "code",
   "execution_count": 11,
   "metadata": {},
   "outputs": [
    {
     "data": {
      "text/plain": [
       "poly1d([1, 1, 1, 0, 1, 1, 0, 0, 0, 1, 0, 0, 1, 1, 0, 0, 0])"
      ]
     },
     "execution_count": 11,
     "metadata": {},
     "output_type": "execute_result"
    }
   ],
   "source": [
    "m_decifer"
   ]
  },
  {
   "cell_type": "markdown",
   "metadata": {},
   "source": [
    "### Plot Figure"
   ]
  },
  {
   "cell_type": "code",
   "execution_count": 12,
   "metadata": {},
   "outputs": [],
   "source": [
    "probas = np.load(file=\"results.npy\")\n",
    "𝜎_range = np.linspace(start=0.5,stop=10,num=50)"
   ]
  },
  {
   "cell_type": "markdown",
   "metadata": {},
   "source": [
    "## $N = 2^9$, $q=2^k$ with $k$ in $\\{4,5,6,7,8\\}$"
   ]
  },
  {
   "cell_type": "code",
   "execution_count": 13,
   "metadata": {},
   "outputs": [
    {
     "data": {
      "image/png": "[encoded data removed]",
      "text/plain": [
       "<Figure size 720x360 with 1 Axes>"
      ]
     },
     "metadata": {
      "needs_background": "light"
     },
     "output_type": "display_data"
    }
   ],
   "source": [
    "plt.figure(figsize=(10,5))\n",
    "plt.plot(𝜎_range,probas[0,0,:],marker='o',label='q=16')\n",
    "plt.plot(𝜎_range,probas[0,1,:],marker='v',label='q=32')\n",
    "plt.plot(𝜎_range,probas[0,2,:],marker='<',label='q=64')\n",
    "plt.plot(𝜎_range,probas[0,3,:],marker='>',label='q=128')\n",
    "plt.plot(𝜎_range,probas[0,4,:],marker='^',label='q=256')\n",
    "plt.grid(alpha=0.5)\n",
    "plt.legend()\n",
    "plt.xlabel('Sigma',fontsize=15)\n",
    "plt.ylabel('Succes rate',fontsize=15)\n",
    "plt.legend(fontsize=14)\n",
    "plt.xticks(fontsize=15)\n",
    "plt.yticks(fontsize=15)\n",
    "plt.title('$N=2^9$')\n",
    "#plt.savefig(fname='proba_decoding_RLWE_N2e9.pdf',transparent=True,pad_inches=0)\n",
    "plt.show()"
   ]
  },
  {
   "cell_type": "markdown",
   "metadata": {},
   "source": [
    "## $N = 2^{10}$, $q=2^k$ with $k$ in $\\{4,5,6,7,8\\}$"
   ]
  },
  {
   "cell_type": "code",
   "execution_count": 14,
   "metadata": {},
   "outputs": [
    {
     "data": {
      "image/png": "[encoded data removed]",
      "text/plain": [
       "<Figure size 720x360 with 1 Axes>"
      ]
     },
     "metadata": {
      "needs_background": "light"
     },
     "output_type": "display_data"
    }
   ],
   "source": [
    "plt.figure(figsize=(10,5))\n",
    "plt.plot(𝜎_range,probas[1,0,:],marker='o',label='q=16')\n",
    "plt.plot(𝜎_range,probas[1,1,:],marker='v',label='q=32')\n",
    "plt.plot(𝜎_range,probas[1,2,:],marker='<',label='q=64')\n",
    "plt.plot(𝜎_range,probas[1,3,:],marker='>',label='q=128')\n",
    "plt.plot(𝜎_range,probas[1,4,:],marker='^',label='q=256')\n",
    "plt.grid(alpha=0.5)\n",
    "plt.legend()\n",
    "plt.xlabel('Sigma',fontsize=15)\n",
    "plt.ylabel('Succes rate',fontsize=15)\n",
    "plt.legend(fontsize=14)\n",
    "plt.xticks(fontsize=15)\n",
    "plt.yticks(fontsize=15)\n",
    "plt.title('$N=2^{10}$')\n",
    "plt.savefig(fname='proba_decoding_RLWE_N2e10.pdf',transparent=True,pad_inches=0)\n",
    "plt.show()"
   ]
  },
  {
   "cell_type": "markdown",
   "metadata": {},
   "source": [
    "### Test RLWE_prod to perform product in homomorphically way"
   ]
  },
  {
   "cell_type": "code",
   "execution_count": 15,
   "metadata": {},
   "outputs": [
    {
     "name": "stdout",
     "output_type": "stream",
     "text": [
      "k= 4\n",
      "Is product recovered ? True\n"
     ]
    }
   ],
   "source": [
    "# security parameters\n",
    "N = int(2**9)\n",
    "q = int(2**8)\n",
    "B = int(2**2)\n",
    "\n",
    "print('k=',floor(log(q,B)))\n",
    "𝜎 = 0.2\n",
    "t = 2\n",
    "s = draw_from_binary(n=N)\n",
    "\n",
    "m0 = draw_from_binary(n=int(2**6))\n",
    "m1 = np.poly1d([1,0,0])\n",
    "\n",
    "# compute prod for clear messages\n",
    "m0m1 = mod(poly=m0*m1,q=q,poly_modulus=np.poly1d([1] + ((N - 1) * [0]) + [1]))\n",
    "# encode product\n",
    "a_cifer,b_cifer = RLWE_prod(n=N,q=q,𝜎=𝜎,s=s,t=t,B=B,m0=m0,m1=m1)\n",
    "# decode product\n",
    "m0m1_decoded = inv_RLWE(n=N, q=q, s=s, t=t, a=a_cifer, b=b_cifer)\n",
    "# Test equality\n",
    "print(\"Is product recovered ?\", m0m1==m0m1_decoded)"
   ]
  },
  {
   "cell_type": "markdown",
   "metadata": {},
   "source": [
    "### Display messages"
   ]
  },
  {
   "cell_type": "code",
   "execution_count": 16,
   "metadata": {},
   "outputs": [
    {
     "data": {
      "text/plain": [
       "poly1d([1, 0, 0, 0, 0, 1, 0, 1, 0, 0, 0, 0, 0, 1, 0, 1, 1, 1, 0, 1, 1, 1,\n",
       "       1, 1, 1, 0, 0, 1, 0, 0, 0, 0, 0, 1, 0, 1, 0, 0, 1, 0, 1, 1, 0, 0,\n",
       "       0, 0, 1, 0, 1, 1, 1, 0, 1, 1, 1, 0, 1, 1, 0, 0, 0, 0, 1, 0, 0, 0])"
      ]
     },
     "execution_count": 16,
     "metadata": {},
     "output_type": "execute_result"
    }
   ],
   "source": [
    "m0m1"
   ]
  },
  {
   "cell_type": "code",
   "execution_count": 17,
   "metadata": {},
   "outputs": [
    {
     "data": {
      "text/plain": [
       "poly1d([1, 0, 0, 0, 0, 1, 0, 1, 0, 0, 0, 0, 0, 1, 0, 1, 1, 1, 0, 1, 1, 1,\n",
       "       1, 1, 1, 0, 0, 1, 0, 0, 0, 0, 0, 1, 0, 1, 0, 0, 1, 0, 1, 1, 0, 0,\n",
       "       0, 0, 1, 0, 1, 1, 1, 0, 1, 1, 1, 0, 1, 1, 0, 0, 0, 0, 1, 0, 0, 0])"
      ]
     },
     "execution_count": 17,
     "metadata": {},
     "output_type": "execute_result"
    }
   ],
   "source": [
    "m0m1_decoded"
   ]
  },
  {
   "cell_type": "markdown",
   "metadata": {},
   "source": [
    "### Observe evolution of noise (succes recovery rate) with sum + and prod x"
   ]
  },
  {
   "cell_type": "code",
   "execution_count": 18,
   "metadata": {},
   "outputs": [],
   "source": [
    "# load results with sum\n",
    "probas_sum = np.load('results_sum_2.npy')"
   ]
  },
  {
   "cell_type": "markdown",
   "metadata": {},
   "source": [
    "## $N = 2^9$, $q=2^k$ with $k$ in $\\{4,5,6,7,8\\}$ and $l=2$ messages to sum"
   ]
  },
  {
   "cell_type": "code",
   "execution_count": 19,
   "metadata": {},
   "outputs": [
    {
     "data": {
      "image/png": "[encoded data removed]",
      "text/plain": [
       "<Figure size 720x360 with 1 Axes>"
      ]
     },
     "metadata": {
      "needs_background": "light"
     },
     "output_type": "display_data"
    }
   ],
   "source": [
    "plt.figure(figsize=(10,5))\n",
    "plt.plot(𝜎_range,probas_sum[0,0,:],marker='o',label='q=16')\n",
    "plt.plot(𝜎_range,probas_sum[0,1,:],marker='v',label='q=32')\n",
    "plt.plot(𝜎_range,probas_sum[0,2,:],marker='<',label='q=64')\n",
    "plt.plot(𝜎_range,probas_sum[0,3,:],marker='>',label='q=128')\n",
    "plt.plot(𝜎_range,probas_sum[0,4,:],marker='^',label='q=256')\n",
    "plt.grid(alpha=0.5)\n",
    "plt.legend()\n",
    "plt.xlabel('Sigma',fontsize=15)\n",
    "plt.ylabel('Succes rate',fontsize=15)\n",
    "plt.legend(fontsize=14)\n",
    "plt.xticks(fontsize=15)\n",
    "plt.yticks(fontsize=15)\n",
    "plt.title('$N=2^9$')\n",
    "#plt.savefig(fname='proba_decoding_sum_N2e9.pdf',transparent=True,pad_inches=0)\n",
    "plt.show()"
   ]
  },
  {
   "cell_type": "markdown",
   "metadata": {},
   "source": [
    "## $N = 2^{10}$, $q=2^k$ with $k$ in $\\{4,5,6,7,8\\}$ and $l=2$ messages to sum"
   ]
  },
  {
   "cell_type": "code",
   "execution_count": 20,
   "metadata": {},
   "outputs": [
    {
     "data": {
      "image/png": "[encoded data removed]",
      "text/plain": [
       "<Figure size 720x360 with 1 Axes>"
      ]
     },
     "metadata": {
      "needs_background": "light"
     },
     "output_type": "display_data"
    }
   ],
   "source": [
    "plt.figure(figsize=(10,5))\n",
    "plt.plot(𝜎_range,probas_sum[1,0,:],marker='o',label='q=16')\n",
    "plt.plot(𝜎_range,probas_sum[1,1,:],marker='v',label='q=32')\n",
    "plt.plot(𝜎_range,probas_sum[1,2,:],marker='<',label='q=64')\n",
    "plt.plot(𝜎_range,probas_sum[1,3,:],marker='>',label='q=128')\n",
    "plt.plot(𝜎_range,probas_sum[1,4,:],marker='^',label='q=256')\n",
    "plt.grid(alpha=0.5)\n",
    "plt.legend()\n",
    "plt.xlabel('Sigma',fontsize=15)\n",
    "plt.ylabel('Succes rate',fontsize=15)\n",
    "plt.legend(fontsize=14)\n",
    "plt.xticks(fontsize=15)\n",
    "plt.yticks(fontsize=15)\n",
    "plt.title('$N=2^{10}$')\n",
    "#plt.savefig(fname='proba_decoding_sum_N2e10.pdf',transparent=True,pad_inches=0)\n",
    "plt.show()"
   ]
  },
  {
   "cell_type": "markdown",
   "metadata": {},
   "source": [
    "## $N = 2^9$, $q=2^k$ with $k$ in $\\{4,5,6,7,8\\}$ and $l=2$ messages to prod"
   ]
  },
  {
   "cell_type": "code",
   "execution_count": 21,
   "metadata": {},
   "outputs": [],
   "source": [
    "# load results with prod\n",
    "probas = np.load('results_prod_2.npy')"
   ]
  },
  {
   "cell_type": "code",
   "execution_count": 22,
   "metadata": {},
   "outputs": [],
   "source": [
    "𝜎_range = np.linspace(start=0.01, stop=0.3, num=50)"
   ]
  },
  {
   "cell_type": "code",
   "execution_count": 23,
   "metadata": {},
   "outputs": [
    {
     "data": {
      "text/plain": [
       "array([0., 0., 0., 0., 0., 0., 0., 0., 0., 0., 0., 0., 0., 0., 0., 0., 0.,\n",
       "       0., 0., 0., 0., 0., 0., 0., 0., 0., 0., 0., 0., 0., 0., 0., 0., 0.,\n",
       "       0., 0., 0., 0., 0., 0., 0., 0., 0., 0., 0., 0., 0., 0., 0., 0.])"
      ]
     },
     "execution_count": 23,
     "metadata": {},
     "output_type": "execute_result"
    }
   ],
   "source": [
    "probas[0,1]"
   ]
  },
  {
   "cell_type": "code",
   "execution_count": 24,
   "metadata": {},
   "outputs": [
    {
     "data": {
      "image/png": "[encoded data removed]",
      "text/plain": [
       "<Figure size 720x360 with 1 Axes>"
      ]
     },
     "metadata": {
      "needs_background": "light"
     },
     "output_type": "display_data"
    }
   ],
   "source": [
    "plt.figure(figsize=(10,5))\n",
    "plt.plot(𝜎_range,probas[0,0,:],marker='o',label='q=16')\n",
    "#plt.plot(𝜎_range,probas[0,1,:],marker='o',label='q=32')\n",
    "plt.plot(𝜎_range,probas[0,2,:],marker='o',label='q=64')\n",
    "#plt.plot(𝜎_range,probas[0,3,:],marker='o',label='q=128')\n",
    "plt.plot(𝜎_range,probas[0,4,:],marker='o',label='q=256')\n",
    "plt.grid(alpha=0.5)\n",
    "plt.legend()\n",
    "plt.xlabel('Sigma',fontsize=15)\n",
    "plt.ylabel('Succes rate',fontsize=15)\n",
    "plt.legend(fontsize=14)\n",
    "plt.xticks(fontsize=15)\n",
    "plt.yticks(fontsize=15)\n",
    "plt.title('$N=2^9$')\n",
    "#plt.savefig(fname='proba_decoding_prod_N2e9.pdf',transparent=True,pad_inches=0)\n",
    "plt.show()"
   ]
  },
  {
   "cell_type": "markdown",
   "metadata": {},
   "source": [
    "## $N = 2^{10}$, $q=2^k$ with $k$ in $\\{4,5,6,7,8\\}$ and $l=2$ messages to prod"
   ]
  },
  {
   "cell_type": "code",
   "execution_count": 27,
   "metadata": {},
   "outputs": [
    {
     "data": {
      "image/png": "[encoded data removed]",
      "text/plain": [
       "<Figure size 720x360 with 1 Axes>"
      ]
     },
     "metadata": {
      "needs_background": "light"
     },
     "output_type": "display_data"
    }
   ],
   "source": [
    "plt.figure(figsize=(10,5))\n",
    "plt.plot(𝜎_range,probas[1,0,:],marker='o',label='q=16')\n",
    "#plt.plot(𝜎_range,probas[1,1,:],marker='o',label='q=32')\n",
    "plt.plot(𝜎_range,probas[1,2,:],marker='o',label='q=64')\n",
    "#plt.plot(𝜎_range,probas[1,3,:],marker='o',label='q=128')\n",
    "plt.plot(𝜎_range,probas[1,4,:],marker='o',label='q=256')\n",
    "plt.grid(alpha=0.5)\n",
    "plt.legend()\n",
    "plt.xlabel('Sigma',fontsize=15)\n",
    "plt.ylabel('Succes rate',fontsize=15)\n",
    "plt.legend(fontsize=14)\n",
    "plt.xticks(fontsize=15)\n",
    "plt.yticks(fontsize=15)\n",
    "plt.title('$N=2^{10}$')\n",
    "plt.savefig(fname='proba_decoding_prod_N2e10.pdf',transparent=True,pad_inches=0)\n",
    "plt.show()"
   ]
  },
  {
   "cell_type": "markdown",
   "metadata": {},
   "source": [
    "### Test KeySwitch"
   ]
  },
  {
   "cell_type": "code",
   "execution_count": null,
   "metadata": {},
   "outputs": [],
   "source": [
    "# security parameters\n",
    "N = int(2**9)\n",
    "q = int(2**8)\n",
    "B = int(2**2)\n",
    "\n",
    "print('k=',floor(log(q,B)))\n",
    "𝜎 = 0.5\n",
    "t = 2\n",
    "\n",
    "s_ini = draw_from_binary(n=N)\n",
    "s_new = draw_from_binary(n=N)\n",
    "\n",
    "# draw message\n",
    "m0 = draw_from_binary(n=int(2**3))\n",
    "# code with secret key s\n",
    "a_in,b_in = RLWE(n=N,q=q,𝜎=𝜎,s=s_ini,t=t,m=m0)"
   ]
  },
  {
   "cell_type": "code",
   "execution_count": null,
   "metadata": {},
   "outputs": [],
   "source": [
    "# Perform keyswitch\n",
    "a_new, b_new = key_switch(n=N, q=q, B=B,σ=0.1, t=t,s=s_new, s_prime=s_ini, a_prime=a_in, b_prime=b_in)\n",
    "# decode\n",
    "m_decoded = inv_RLWE(n=N, q=q, s=s_new, t=t, a=a_new, b=b_new)"
   ]
  },
  {
   "cell_type": "markdown",
   "metadata": {},
   "source": [
    "### Test BootStrap"
   ]
  },
  {
   "cell_type": "markdown",
   "metadata": {},
   "source": [
    "We test bootstrap-AP without the KeySwitch, i.e., we decode the last LWE with the new key s'"
   ]
  },
  {
   "cell_type": "code",
   "execution_count": 23,
   "metadata": {},
   "outputs": [
    {
     "name": "stderr",
     "output_type": "stream",
     "text": [
      "\r",
      "  0%|          | 0/32 [00:00<?, ?it/s]"
     ]
    },
    {
     "name": "stdout",
     "output_type": "stream",
     "text": [
      "k= 3\n",
      "s_ini: [1 0 0 0 0 0 0 0 0 0 0 0 0 0 0 0 0 0 0 0 0 0 0 0 0 0 0 0 0 0 0 0]\n"
     ]
    },
    {
     "name": "stderr",
     "output_type": "stream",
     "text": [
      "100%|██████████| 32/32 [00:18<00:00,  1.77it/s]\n"
     ]
    }
   ],
   "source": [
    "# security parameters\n",
    "N = int(2**5)\n",
    "q = int(2**6)\n",
    "B = int(2**2)\n",
    "\n",
    "print('k=',int(round(log(q,B))))\n",
    "𝜎 = 0\n",
    "t = 4\n",
    "\n",
    "s_ini = np.zeros(N)\n",
    "s_ini[0] = 1\n",
    "s_ini = s_ini.astype(int)\n",
    "print('s_ini:', s_ini)\n",
    "s_new = draw_from_binary(n=N-1)\n",
    "\n",
    "# get matrix of Bootstrap Keys\n",
    "BK = get_BK(n=N,q=q,σ=0,t=t,B=B,s=s_ini,s_prime=s_new)"
   ]
  },
  {
   "cell_type": "code",
   "execution_count": 24,
   "metadata": {},
   "outputs": [
    {
     "data": {
      "text/plain": [
       "array([1, 0, 1, 1, 0, 0, 0, 0, 0, 0, 1, 1, 1, 0, 1, 0, 0, 0, 1, 1, 0, 1,\n",
       "       0, 1, 0, 0, 0, 1, 0, 0, 0, 0])"
      ]
     },
     "execution_count": 24,
     "metadata": {},
     "output_type": "execute_result"
    }
   ],
   "source": [
    "s_new.coef"
   ]
  },
  {
   "cell_type": "markdown",
   "metadata": {},
   "source": [
    "### Compute Polynomial $w(X)= \\sum_{i=0}^{N-1} w_i X^i$ such that $w_i=q/4$ for $N/4 \\leq i < 3N/4$ and $w_i=0$ otherwise"
   ]
  },
  {
   "cell_type": "code",
   "execution_count": 25,
   "metadata": {},
   "outputs": [],
   "source": [
    "val = int(q/4)\n",
    "coef_W = np.zeros(N)\n",
    "coef_W[int(N/4):int(3*N/4)] = val\n",
    "W = np.poly1d(coef_W.astype(int))"
   ]
  },
  {
   "cell_type": "code",
   "execution_count": 26,
   "metadata": {},
   "outputs": [
    {
     "data": {
      "text/plain": [
       "poly1d([16, 16, 16, 16, 16, 16, 16, 16, 16, 16, 16, 16, 16, 16, 16, 16,  0,\n",
       "        0,  0,  0,  0,  0,  0,  0])"
      ]
     },
     "execution_count": 26,
     "metadata": {},
     "output_type": "execute_result"
    }
   ],
   "source": [
    "W"
   ]
  },
  {
   "cell_type": "markdown",
   "metadata": {},
   "source": [
    "### Draw test messages $m \\in \\{0,1\\}$"
   ]
  },
  {
   "cell_type": "code",
   "execution_count": 27,
   "metadata": {},
   "outputs": [],
   "source": [
    "# draw message\n",
    "m0 = np.array([0])\n",
    "m1 = np.array([1])"
   ]
  },
  {
   "cell_type": "code",
   "execution_count": 33,
   "metadata": {},
   "outputs": [
    {
     "data": {
      "text/plain": [
       "poly1d([1, 0, 1, 1, 0, 0, 0, 0, 0, 0, 1, 1, 1, 0, 1, 0, 0, 0, 1, 1, 0, 1,\n",
       "       0, 1, 0, 0, 0, 1, 0, 0, 0, 0])"
      ]
     },
     "execution_count": 33,
     "metadata": {},
     "output_type": "execute_result"
    }
   ],
   "source": [
    "s_new"
   ]
  },
  {
   "cell_type": "markdown",
   "metadata": {},
   "source": [
    "### Bootstrap with $m_0 = 0$"
   ]
  },
  {
   "cell_type": "code",
   "execution_count": 32,
   "metadata": {},
   "outputs": [
    {
     "name": "stdout",
     "output_type": "stream",
     "text": [
      "temp [16 16 16 16 16 16 16 16 16 16 16 16  0  0  0  0  0  0  0  0  0  0  0  0\n",
      "  0  0  0  0 48 48 48 48]\n",
      "result = 3\n"
     ]
    }
   ],
   "source": [
    "p = 0\n",
    "for _ in range(1): \n",
    "    a,b = LWE(n=N, q=q, σ=0, s=s_ini, t=t, m=m0)\n",
    "    # Step 1. ACC-part to get RLWE under s_prime\n",
    "    a_prime, b_prime = accu_AP(n=N,q=q,B=B,a=a,b=b,w=W,BK=BK)\n",
    "    #print('b_prime =',b_prime.coef)\n",
    "    #print('coeff = ', inv_RLWE(n=N, q=q, s=s_new, t=t, a=a_prime, b=b_prime).coef)\n",
    "    result = inv_RLWE(n=N, q=q, s=s_new, t=t, a=a_prime, b=b_prime).coef[-1]\n",
    "    temp = mod(poly=b_prime-(a_prime*s_new),q=q,\n",
    "               poly_modulus=np.poly1d([1] + (int(N - 1) * [0]) + [1]))\n",
    "    print('temp', temp.coef)\n",
    "    print('result =', result)\n",
    "    p += result"
   ]
  },
  {
   "cell_type": "code",
   "execution_count": 29,
   "metadata": {},
   "outputs": [
    {
     "data": {
      "text/plain": [
       "poly1d([18, 30, 38, 27,  4, 27, 40, 45, 18, 48,  6, 34,  1, 42, 13, 55, 22,\n",
       "       38, 39, 15, 59, 23, 49, 63, 30, 25,  6, 60, 47, 50,  9,  5])"
      ]
     },
     "execution_count": 29,
     "metadata": {},
     "output_type": "execute_result"
    }
   ],
   "source": [
    "a_prime"
   ]
  },
  {
   "cell_type": "code",
   "execution_count": 30,
   "metadata": {},
   "outputs": [
    {
     "data": {
      "text/plain": [
       "poly1d([ 2,  6, 12, 35, 48, 57, 13, 22, 62,  0, 60, 38, 23, 38, 60, 56, 58,\n",
       "       59, 33, 32, 29,  9, 41,  6, 15, 52, 40, 51, 60,  0, 13, 56])"
      ]
     },
     "execution_count": 30,
     "metadata": {},
     "output_type": "execute_result"
    }
   ],
   "source": [
    "b_prime"
   ]
  },
  {
   "cell_type": "code",
   "execution_count": null,
   "metadata": {},
   "outputs": [],
   "source": [
    "N"
   ]
  },
  {
   "cell_type": "code",
   "execution_count": 16,
   "metadata": {},
   "outputs": [
    {
     "data": {
      "text/plain": [
       "array([58])"
      ]
     },
     "execution_count": 16,
     "metadata": {},
     "output_type": "execute_result"
    }
   ],
   "source": [
    "b"
   ]
  },
  {
   "cell_type": "code",
   "execution_count": null,
   "metadata": {},
   "outputs": [],
   "source": [
    "b = 16\n",
    "monomial = np.poly1d([-1] + (N  - b) * [0])\n",
    "monomial.coef"
   ]
  },
  {
   "cell_type": "code",
   "execution_count": null,
   "metadata": {},
   "outputs": [],
   "source": [
    "mono = mod(poly=monomial*W,q=q,\n",
    "           poly_modulus=np.poly1d([1] + ((N - 1) * [0]) + [1]))"
   ]
  },
  {
   "cell_type": "code",
   "execution_count": null,
   "metadata": {},
   "outputs": [],
   "source": [
    "mono"
   ]
  },
  {
   "cell_type": "code",
   "execution_count": null,
   "metadata": {},
   "outputs": [],
   "source": [
    "len(monomial.coef)"
   ]
  },
  {
   "cell_type": "code",
   "execution_count": null,
   "metadata": {},
   "outputs": [],
   "source": [
    "acc_a = np.poly1d([0])\n",
    "acc_b = mod(poly=(monomial*W),q=q,\n",
    "             poly_modulus=np.poly1d([1] + ((N - 1) * [0]) + [1]))"
   ]
  },
  {
   "cell_type": "code",
   "execution_count": null,
   "metadata": {},
   "outputs": [],
   "source": [
    "acc_b"
   ]
  },
  {
   "cell_type": "code",
   "execution_count": null,
   "metadata": {},
   "outputs": [],
   "source": [
    "print('coeff = ', inv_RLWE(n=N, q=q, s=s_new, t=t, a=acc_a, b=acc_b).coef)\n",
    "result = inv_RLWE(n=N, q=q, s=s_new, t=t, a=acc_a, b=acc_b).coef[-1]"
   ]
  },
  {
   "cell_type": "code",
   "execution_count": null,
   "metadata": {},
   "outputs": [],
   "source": [
    "result"
   ]
  },
  {
   "cell_type": "code",
   "execution_count": null,
   "metadata": {},
   "outputs": [],
   "source": []
  },
  {
   "cell_type": "code",
   "execution_count": null,
   "metadata": {},
   "outputs": [],
   "source": [
    "# perform trivial RLWE(0,X^{-b} w(X))\n",
    "acc_a = np.poly1d([0])\n",
    "monomial = np.poly1d([-1] + (n - b) * [0])\n",
    "acc_b = mod(poly=(monomial*w),q=q,\n",
    "             poly_modulus=np.poly1d([1] + ((n - 1) * [0]) + [1]))\n",
    "# perform recursive blind rotations\n",
    "for i in range(n):\n",
    "    # perform external prod RLWE x RGSW\n",
    "    acc_a, acc_b = prod_ext(n=n,q=q,a=acc_a,b=acc_b,\n",
    "                            B=B,M=BK[i,a[i]])"
   ]
  },
  {
   "cell_type": "code",
   "execution_count": null,
   "metadata": {},
   "outputs": [],
   "source": [
    "p"
   ]
  },
  {
   "cell_type": "code",
   "execution_count": null,
   "metadata": {},
   "outputs": [],
   "source": []
  },
  {
   "cell_type": "code",
   "execution_count": null,
   "metadata": {},
   "outputs": [],
   "source": [
    "a_prime"
   ]
  },
  {
   "cell_type": "code",
   "execution_count": null,
   "metadata": {},
   "outputs": [],
   "source": [
    "b_prime"
   ]
  },
  {
   "cell_type": "code",
   "execution_count": null,
   "metadata": {},
   "outputs": [],
   "source": []
  },
  {
   "cell_type": "code",
   "execution_count": null,
   "metadata": {},
   "outputs": [],
   "source": [
    "\n",
    "# Step 3. Extract cipher LWE of coeff_0(RLWE_{s})\n",
    "a_0, b_0 = extract_RLWE(n=N,a=a_prime,b=b_prime,i_coeff=0)\n",
    "if len(s_new.coef)<N:\n",
    "    s_new_vec = np.insert(s_new.coef,0,(N-len(s_new.coef))*[0])\n",
    "else:\n",
    "    s_new_vec = s_new.coef\n",
    "# decode message under key s_new\n",
    "res = np.array([inv_LWE(n=N, q=q, s=s_new_vec, t=t, a=a_0, b=b_0) % 2])"
   ]
  },
  {
   "cell_type": "code",
   "execution_count": null,
   "metadata": {},
   "outputs": [],
   "source": [
    "res"
   ]
  },
  {
   "cell_type": "code",
   "execution_count": null,
   "metadata": {},
   "outputs": [],
   "source": [
    "\n",
    "\n",
    "    p += int(m0==res)\n",
    "print('proba=',p/N_exp)"
   ]
  },
  {
   "cell_type": "markdown",
   "metadata": {},
   "source": [
    "### Bootstrap with $m_1 = 1$"
   ]
  },
  {
   "cell_type": "code",
   "execution_count": 9,
   "metadata": {},
   "outputs": [
    {
     "data": {
      "application/vnd.jupyter.widget-view+json": {
       "model_id": "8a4db8607a674c048b2b6c3dcc917c84",
       "version_major": 2,
       "version_minor": 0
      },
      "text/plain": [
       "HBox(children=(IntProgress(value=0, max=20), HTML(value='')))"
      ]
     },
     "metadata": {},
     "output_type": "display_data"
    },
    {
     "name": "stdout",
     "output_type": "stream",
     "text": [
      "\n",
      "proba= 0.4\n"
     ]
    }
   ],
   "source": [
    "p = 0\n",
    "N_exp = 20\n",
    "for _ in tqdm(range(N_exp)):\n",
    "    a,b = LWE(n=N, q=q, σ=σ, s=s_ini, t=t, m=m1)\n",
    "    # Step 1. ACC-part to get RLWE under s_prime\n",
    "    a_prime, b_prime = accu_AP(n=N,q=q,B=B,a=a,b=b,w=W,BK=BK)\n",
    "    # Step 3. Extract cipher LWE of coeff_0(RLWE_{s})\n",
    "    a_0, b_0 = extract_RLWE(n=N,a=a_prime,b=b_prime,i_coeff=0)\n",
    "    if len(s_new.coef)<N:\n",
    "        s_new_vec = np.insert(s_new.coef,0,(N-len(s_new.coef))*[0])\n",
    "    else:\n",
    "        s_new_vec = s_new.coef\n",
    "    # decode message under key s_new\n",
    "    res = np.array([inv_LWE(n=N, q=q, s=s_new_vec, t=t, a=a_0, b=b_0) % 2])\n",
    "    p += int(m0==res)\n",
    "print('proba=',p/N_exp)"
   ]
  },
  {
   "cell_type": "markdown",
   "metadata": {},
   "source": [
    "### Bootstrap with AP-decomposition Br"
   ]
  },
  {
   "cell_type": "code",
   "execution_count": null,
   "metadata": {},
   "outputs": [],
   "source": [
    "# security parameters\n",
    "N = int(2**5)\n",
    "q = int(2**4)\n",
    "B = int(2**2)\n",
    "Br = 2\n",
    "\n",
    "print('k=',floor(log(q,B)))\n",
    "𝜎 = 0.5\n",
    "t = 4\n",
    "\n",
    "s_ini = draw_from_binary_vec(n=N)\n",
    "s_new = draw_from_binary(n=N-1)\n",
    "\n",
    "# get matrix of Bootstrap Keys\n",
    "BK = get_BK_dec(n=N,q=q,σ=σ,t=t,B=B,Br=Br,s=s_ini,s_prime=s_new)"
   ]
  },
  {
   "cell_type": "code",
   "execution_count": null,
   "metadata": {},
   "outputs": [],
   "source": [
    "val = int(q/4)\n",
    "coef_W = np.zeros(N)\n",
    "coef_W[int(N/4):int(3*N/4)] = val\n",
    "W = np.poly1d(coef_W)"
   ]
  },
  {
   "cell_type": "code",
   "execution_count": null,
   "metadata": {},
   "outputs": [],
   "source": [
    "# draw message\n",
    "m0 = np.array([0])\n",
    "m1 = np.array([1])"
   ]
  },
  {
   "cell_type": "markdown",
   "metadata": {},
   "source": [
    "### Bootstrap AP-dec with $m_0 = 0$"
   ]
  },
  {
   "cell_type": "code",
   "execution_count": null,
   "metadata": {},
   "outputs": [],
   "source": [
    "BK.shape"
   ]
  },
  {
   "cell_type": "code",
   "execution_count": null,
   "metadata": {},
   "outputs": [],
   "source": [
    "p = 0\n",
    "N_exp = 100\n",
    "for _ in tqdm(range(N_exp)):\n",
    "    a,b = LWE(n=N, q=q, σ=σ, s=s_ini, t=t, m=m0)\n",
    "    # Step 1. ACC-part to get RLWE under s_prime\n",
    "    a_prime, b_prime = accu_AP_dec(n=N,q=q,B=B,Br=Br,a=a,b=b,w=W,BK=BK)\n",
    "    # Step 3. Extract cipher LWE of coeff_0(RLWE_{s})\n",
    "    a_0, b_0 = extract_RLWE(n=N,a=a_prime,b=b_prime,i_coeff=0)\n",
    "    if len(s_new.coef)<N:\n",
    "        s_new_vec = np.insert(s_new.coef,0,(N-len(s_new.coef))*[0])\n",
    "    else:\n",
    "        s_new_vec = s_new.coef\n",
    "    # decode message under key s_new\n",
    "    res = np.array([inv_LWE(n=N, q=q, s=s_new_vec, t=t, a=a_0, b=b_0) % 2])\n",
    "    p += int(m0==res)\n",
    "print('proba=',p/N_exp)"
   ]
  },
  {
   "cell_type": "code",
   "execution_count": null,
   "metadata": {},
   "outputs": [],
   "source": []
  },
  {
   "cell_type": "markdown",
   "metadata": {},
   "source": [
    "### Bootstrap AP-dec with $m_1 = 1$"
   ]
  },
  {
   "cell_type": "code",
   "execution_count": null,
   "metadata": {},
   "outputs": [],
   "source": []
  }
 ],
 "metadata": {
  "kernelspec": {
   "display_name": "Python 3 (ipykernel)",
   "language": "python",
   "name": "python3"
  },
  "language_info": {
   "codemirror_mode": {
    "name": "ipython",
    "version": 3
   },
   "file_extension": ".py",
   "mimetype": "text/x-python",
   "name": "python",
   "nbconvert_exporter": "python",
   "pygments_lexer": "ipython3",
   "version": "3.7.5"
  }
 },
 "nbformat": 4,
 "nbformat_minor": 2
}
