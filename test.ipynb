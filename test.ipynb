{
 "cells": [
  {
   "cell_type": "code",
   "execution_count": 13,
   "metadata": {},
   "outputs": [],
   "source": [
    "import time\n",
    "import numpy as np\n",
    "from math import log,floor\n",
    "from scipy.stats import norm\n",
    "import matplotlib.pyplot as plt\n",
    "from tqdm.notebook import tqdm\n",
    "\n",
    "#Tool functions for FHE\n",
    "from utils import draw_from_binary,draw_from_integer,draw_from_normal\n",
    "from utils import mod, base_decomp, base_decomp_vec, draw_from_integer_vec\n",
    "\n",
    "from fhe import LWE, inv_LWE\n",
    "from fhe import RLWE,inv_RLWE,RLWE_prod\n",
    "from fhe import RGSW,prod_ext\n",
    "\n",
    "from utils import draw_from_binary_vec\n",
    "from bootstrap import get_BK, accu_AP, extract_RLWE, key_switch\n",
    "from bootstrap import get_BK_dec, accu_AP_dec\n",
    "\n"
   ]
  },
  {
   "cell_type": "markdown",
   "metadata": {},
   "source": [
    "# Test Encryption and Decryption"
   ]
  },
  {
   "cell_type": "code",
   "execution_count": 14,
   "metadata": {},
   "outputs": [
    {
     "name": "stdout",
     "output_type": "stream",
     "text": [
      "The decryption is correct in  100.0 % of the cases\n"
     ]
    }
   ],
   "source": [
    "# security parameters\n",
    "N = int(2**8)\n",
    "q = int(2**8)\n",
    "sigma = 0.01\n",
    "t = 2\n",
    "num = 10\n",
    "right = 0\n",
    "for i in range(num):\n",
    "    s = draw_from_binary(n=N)\n",
    "    m_test = draw_from_binary(n=int(2**6))\n",
    "\n",
    "    # perform encryption\n",
    "    a_cifer,b_cifer = RLWE(n=N,q=q,sigma=sigma,s=s,t=t,m=m_test)\n",
    "    # perform decryption\n",
    "    m_test_dec = inv_RLWE(n=N,q=q,s=s,t=t,a=a_cifer,b=b_cifer)\n",
    "    if m_test_dec == m_test:\n",
    "        right += 1\n",
    "print(\"The decryption is correct in \",right/num*100,\"% of the cases\")\n",
    "        \n"
   ]
  },
  {
   "cell_type": "markdown",
   "metadata": {},
   "source": [
    "# Test RLWE_prod to perform product in homomorphically way"
   ]
  },
  {
   "cell_type": "code",
   "execution_count": 15,
   "metadata": {},
   "outputs": [
    {
     "name": "stdout",
     "output_type": "stream",
     "text": [
      "k= 4\n",
      "m0*m1= [1 1 0 0 0 1 1 0 1 1 1 0 1 0 1 1 0 0 0 0 1 0 0 0 1 0 1 1 0 1 0 1 0 1 1 1 0\n",
      " 0 1 0 0 0 0 0 1 1 0 1 0 1 0 0 1 0 1 0 0 1 0 1 0 0 1 0 0]\n",
      "m0*m1_decoded= [1 1 0 0 0 1 1 0 1 1 1 0 1 0 1 1 0 0 0 0 1 0 0 0 1 0 1 1 0 1 0 1 0 1 1 1 0\n",
      " 0 1 0 0 0 0 0 1 1 0 1 0 1 0 0 1 0 1 0 0 1 0 1 0 0 1 0 0]\n",
      "Is product recovered ? True\n"
     ]
    }
   ],
   "source": [
    "# security parameters\n",
    "N = int(2**9)\n",
    "q = int(2**8)\n",
    "B = int(2**2)\n",
    "\n",
    "print('k=',floor(log(q,B)))\n",
    "sigma = 0.2\n",
    "t = 2\n",
    "s = draw_from_binary(n=N)\n",
    "\n",
    "m0 = draw_from_binary(n=int(2**6))\n",
    "m1 = np.poly1d([1,0,0])\n",
    "# m1 = draw_from_binary(n=int(2**2))\n",
    "\n",
    "# compute prod for clear messages\n",
    "m0m1 = mod(poly=m0*m1,q=q,poly_modulus=np.poly1d([1] + ((N - 1) * [0]) + [1]))\n",
    "print(\"m0*m1=\",m0m1.coef)\n",
    "\n",
    "# encode product\n",
    "a_cifer,b_cifer = RLWE_prod(n=N,q=q,sigma=sigma,s=s,t=t,B=B,m0=m0,m1=m1)\n",
    "# decode product\n",
    "m0m1_decoded = inv_RLWE(n=N, q=q, s=s, t=t, a=a_cifer, b=b_cifer)\n",
    "print(\"m0*m1_decoded=\",m0m1_decoded.coef)\n",
    "# Test equality\n",
    "print(\"Is product recovered ?\", m0m1==m0m1_decoded)"
   ]
  },
  {
   "cell_type": "markdown",
   "metadata": {},
   "source": [
    "# Test KeySwitch"
   ]
  },
  {
   "cell_type": "code",
   "execution_count": 16,
   "metadata": {},
   "outputs": [
    {
     "name": "stdout",
     "output_type": "stream",
     "text": [
      "if s_ini==s_new: False\n",
      "m0=    8     5     4\n",
      "1 x + 1 x + 1 x + 1\n",
      "powers= [ 1  4 16 64]\n",
      "a_prime_dec= [poly1d([1, 0, 1, 0, 3, 0, 2, 2, 0, 3, 0, 1, 2, 1, 0, 2, 3, 0, 3, 0, 2, 1,\n",
      "        1, 1, 3, 1, 3, 2, 0, 3, 0, 0, 2, 2, 2, 0, 0, 0, 3, 3, 0, 3, 2, 2,\n",
      "        3, 3, 1, 3, 0, 3, 0, 2, 3, 1, 1, 2, 1, 3, 2, 0, 2, 3, 0, 3, 0, 1,\n",
      "        0, 0, 0, 1, 2, 0, 2, 1, 3, 3, 1, 3, 1, 0, 0, 0, 2, 3, 1, 3, 3, 3,\n",
      "        3, 2, 2, 3, 1, 1, 1, 3, 3, 0, 2, 0, 1, 1, 1, 0, 1, 1, 2, 0, 1, 3,\n",
      "        1, 2, 0, 3, 0, 3, 3, 1, 3, 0, 0, 2, 2, 1, 3, 2, 0, 0, 3, 0, 3, 1,\n",
      "        2, 2, 3, 1, 1, 1, 0, 3, 0, 1, 1, 2, 0, 0, 1, 2, 0, 2, 1, 2, 1, 0,\n",
      "        2, 3, 1, 2, 3, 1, 1, 1, 0, 2, 3, 2, 1, 2, 2, 3, 1, 1, 3, 1, 3, 2,\n",
      "        0, 1, 3, 3, 3, 2, 1, 2, 0, 2, 3, 0, 0, 1, 1, 2, 2, 3, 3, 3, 0, 0,\n",
      "        3, 3, 3, 0, 2, 0, 2, 3, 2, 3, 1, 2, 1, 3, 0, 0, 2, 2, 1, 3, 0, 0,\n",
      "        2, 2, 0, 2, 3, 0, 0, 1, 1, 2, 0, 0, 1, 1, 0, 1, 2, 0, 2, 0, 2, 0,\n",
      "        1, 2, 1, 1, 3, 3, 0, 0, 1, 0, 2, 1, 1, 2, 2, 0, 1, 0, 1, 3, 3, 1,\n",
      "        3, 1, 0, 3, 2, 1, 3, 0, 1, 3, 1, 1, 2, 0, 0, 2, 2, 0, 0, 2, 3, 2,\n",
      "        2, 2, 3, 2, 2, 3, 0, 2, 2, 3, 3, 1, 2, 2, 3, 0, 2, 0, 3, 0, 1, 3,\n",
      "        2, 3, 3, 0, 2, 2, 2, 3, 0, 3, 0, 2, 2, 1, 0, 2, 2, 1, 3, 3, 0, 0,\n",
      "        1, 3, 2, 3, 2, 1, 1, 1, 1, 0, 2, 1, 2, 1, 3, 2, 1, 1, 1, 3, 0, 2,\n",
      "        1, 1, 0, 0, 3, 0, 0, 2, 1, 3, 2, 3, 0, 3, 3, 2, 0, 0, 0, 3, 3, 1,\n",
      "        0, 1, 3, 1, 3, 2, 2, 2, 3, 1, 1, 3, 2, 2, 3, 3, 2, 3, 1, 3, 2, 0,\n",
      "        0, 0, 2, 2, 2, 1, 0, 1, 2, 2, 0, 0, 3, 1, 3, 2, 1, 3, 2, 2, 1, 2,\n",
      "        0, 2, 0, 1, 1, 0, 1, 1, 2, 1, 2, 2, 1, 2, 0, 0, 2, 0, 1, 3, 2, 3,\n",
      "        1, 3, 0, 2, 2, 0, 2, 0, 1, 1, 1, 3, 3, 2, 2, 3, 2, 2, 0, 3, 3, 1,\n",
      "        1, 2, 3, 1, 1, 1, 3, 2, 0, 0, 2, 1, 0, 0, 2, 3, 0, 1, 1, 0, 1, 1,\n",
      "        1, 3, 2, 3, 2, 0, 2, 1, 3, 2, 1, 0, 0, 3, 0, 0, 2, 1, 3, 2, 1, 1,\n",
      "        1, 2, 3, 1, 0, 1, 3])\n",
      " poly1d([3, 1, 2, 1, 2, 3, 2, 1, 2, 2, 0, 2, 2, 3, 0, 2, 1, 3, 1, 1, 2, 0,\n",
      "        3, 0, 3, 3, 2, 0, 1, 2, 2, 1, 3, 3, 1, 1, 0, 2, 0, 0, 1, 0, 1, 1,\n",
      "        0, 3, 3, 2, 0, 0, 0, 1, 1, 1, 3, 1, 1, 1, 0, 0, 3, 2, 0, 0, 2, 3,\n",
      "        0, 3, 3, 0, 1, 1, 1, 0, 0, 3, 1, 0, 0, 1, 2, 0, 2, 3, 0, 1, 0, 2,\n",
      "        1, 2, 3, 0, 1, 1, 0, 2, 2, 2, 3, 3, 1, 0, 3, 0, 2, 1, 2, 2, 0, 3,\n",
      "        3, 1, 3, 2, 2, 0, 2, 2, 3, 1, 1, 3, 0, 3, 0, 0, 3, 2, 3, 2, 0, 2,\n",
      "        3, 0, 2, 1, 0, 0, 2, 0, 0, 0, 0, 3, 3, 1, 3, 1, 1, 0, 0, 3, 3, 0,\n",
      "        2, 2, 0, 2, 1, 0, 1, 1, 3, 2, 0, 3, 0, 1, 3, 0, 1, 3, 3, 2, 2, 2,\n",
      "        3, 2, 2, 3, 0, 2, 1, 3, 0, 2, 1, 0, 2, 3, 2, 2, 0, 0, 1, 0, 3, 2,\n",
      "        1, 1, 3, 2, 3, 3, 3, 3, 1, 0, 3, 3, 1, 3, 1, 2, 1, 1, 1, 0, 0, 2,\n",
      "        1, 1, 1, 2, 2, 3, 2, 3, 1, 3, 3, 2, 1, 2, 2, 3, 3, 3, 3, 3, 2, 1,\n",
      "        3, 3, 0, 3, 3, 3, 1, 0, 1, 3, 2, 0, 0, 0, 3, 2, 1, 2, 1, 1, 3, 2,\n",
      "        2, 3, 2, 3, 0, 1, 1, 0, 1, 0, 3, 3, 1, 0, 3, 2, 3, 1, 0, 2, 3, 0,\n",
      "        2, 2, 3, 3, 1, 2, 0, 1, 0, 3, 1, 3, 0, 3, 2, 0, 0, 0, 0, 1, 0, 2,\n",
      "        2, 0, 3, 3, 2, 0, 1, 3, 2, 3, 1, 0, 3, 2, 1, 0, 0, 3, 1, 1, 1, 1,\n",
      "        1, 2, 1, 2, 0, 3, 0, 1, 2, 1, 2, 3, 3, 1, 0, 0, 0, 2, 2, 1, 3, 0,\n",
      "        0, 2, 1, 1, 2, 3, 1, 1, 1, 1, 3, 3, 1, 2, 3, 2, 2, 0, 0, 2, 1, 2,\n",
      "        3, 1, 0, 1, 1, 1, 0, 2, 2, 2, 3, 2, 2, 0, 1, 3, 1, 1, 3, 0, 0, 1,\n",
      "        1, 0, 0, 3, 1, 0, 0, 1, 1, 3, 1, 0, 2, 0, 0, 1, 0, 2, 2, 0, 2, 1,\n",
      "        0, 0, 3, 3, 0, 1, 1, 1, 2, 1, 3, 3, 2, 1, 3, 0, 0, 1, 0, 0, 2, 0,\n",
      "        0, 2, 3, 3, 0, 1, 2, 3, 0, 1, 1, 3, 3, 0, 2, 1, 3, 3, 3, 2, 0, 0,\n",
      "        0, 3, 1, 0, 2, 1, 0, 1, 1, 2, 0, 3, 2, 1, 1, 0, 0, 0, 3, 0, 3, 0,\n",
      "        2, 3, 2, 3, 3, 2, 1, 0, 1, 3, 0, 2, 3, 0, 0, 1, 0, 0, 3, 2, 1, 2,\n",
      "        1, 1, 0, 2, 3, 1])\n",
      " poly1d([1, 2, 2, 3, 2, 1, 0, 0, 1, 3, 0, 2, 3, 3, 2, 2, 0, 1, 2, 2, 3, 2,\n",
      "        3, 1, 3, 1, 0, 1, 2, 2, 0, 2, 2, 0, 2, 0, 0, 3, 2, 2, 1, 2, 0, 1,\n",
      "        3, 0, 0, 2, 0, 3, 0, 1, 3, 2, 1, 1, 1, 1, 3, 2, 1, 0, 3, 3, 1, 0,\n",
      "        2, 1, 2, 1, 1, 3, 2, 3, 1, 1, 1, 1, 2, 0, 2, 3, 3, 2, 2, 0, 1, 2,\n",
      "        2, 1, 3, 3, 0, 3, 1, 0, 2, 3, 1, 3, 1, 3, 0, 3, 0, 0, 2, 2, 3, 3,\n",
      "        0, 3, 1, 3, 0, 3, 2, 3, 3, 0, 1, 1, 0, 1, 0, 2, 3, 1, 1, 2, 0, 3,\n",
      "        1, 2, 0, 0, 1, 0, 1, 3, 1, 3, 2, 0, 0, 0, 2, 2, 0, 3, 2, 1, 1, 2,\n",
      "        1, 2, 0, 2, 2, 3, 1, 3, 0, 1, 2, 3, 2, 2, 1, 0, 1, 0, 2, 1, 0, 2,\n",
      "        2, 0, 2, 1, 0, 2, 1, 0, 3, 2, 1, 0, 3, 3, 2, 2, 0, 0, 0, 2, 1, 3,\n",
      "        0, 3, 0, 0, 3, 3, 0, 2, 0, 0, 2, 3, 2, 2, 1, 3, 3, 0, 3, 3, 1, 3,\n",
      "        0, 3, 3, 0, 1, 1, 1, 3, 1, 3, 2, 1, 1, 1, 2, 2, 0, 0, 0, 0, 0, 1,\n",
      "        2, 0, 3, 1, 2, 3, 1, 0, 2, 2, 1, 0, 1, 1, 2, 1, 3, 2, 0, 2, 0, 0,\n",
      "        0, 3, 1, 1, 1, 0, 0, 3, 0, 0, 2, 0, 2, 2, 3, 2, 3, 0, 2, 2, 1, 3,\n",
      "        3, 3, 3, 3, 2, 2, 3, 0, 3, 2, 0, 2, 2, 1, 2, 2, 0, 1, 3, 0, 1, 0,\n",
      "        2, 3, 1, 1, 2, 0, 3, 0, 1, 3, 0, 0, 1, 0, 2, 3, 1, 0, 3, 0, 3, 3,\n",
      "        2, 1, 2, 3, 3, 3, 1, 3, 2, 0, 1, 2, 0, 1, 3, 2, 1, 1, 1, 3, 2, 1,\n",
      "        2, 3, 2, 1, 2, 1, 3, 3, 2, 2, 1, 1, 3, 1, 2, 2, 0, 2, 3, 2, 0, 1,\n",
      "        2, 0, 2, 1, 2, 2, 3, 2, 1, 3, 2, 0, 0, 0, 0, 3, 0, 0, 2, 0, 1, 1,\n",
      "        0, 1, 2, 0, 2, 3, 1, 3, 2, 2, 3, 1, 0, 3, 0, 3, 2, 0, 0, 3, 2, 1,\n",
      "        0, 3, 1, 0, 1, 0, 1, 0, 0, 1, 1, 2, 0, 3, 2, 2, 2, 1, 2, 3, 1, 1,\n",
      "        3, 2, 1, 3, 0, 1, 1, 3, 3, 3, 3, 1, 2, 2, 1, 2, 0, 2, 2, 2, 3, 3,\n",
      "        2, 1, 3, 2, 2, 0, 0, 2, 0, 0, 0, 0, 3, 0, 0, 2, 2, 3, 1, 3, 2, 2,\n",
      "        2, 2, 1, 0, 3, 0, 3, 3, 1, 3, 3, 1, 3, 0, 3, 0, 2, 0, 2, 1, 1, 1,\n",
      "        0, 2, 1, 0, 3, 0])\n",
      " poly1d([1, 2, 3, 1, 1, 0, 0, 3, 0, 2, 1, 3, 3, 3, 3, 1, 0, 0, 3, 2, 1, 0,\n",
      "        3, 3, 3, 2, 1, 3, 0, 1, 0, 3, 3, 3, 1, 3, 1, 2, 0, 3, 3, 2, 2, 3,\n",
      "        2, 3, 2, 3, 3, 3, 1, 2, 0, 3, 0, 1, 3, 1, 1, 1, 3, 0, 0, 0, 3, 0,\n",
      "        1, 2, 3, 2, 3, 3, 2, 3, 0, 2, 1, 2, 0, 3, 2, 2, 3, 2, 1, 0, 2, 3,\n",
      "        3, 2, 2, 1, 0, 1, 2, 1, 0, 3, 0, 1, 2, 3, 0, 3, 0, 1, 0, 3, 2, 1,\n",
      "        3, 3, 2, 3, 3, 3, 0, 2, 2, 3, 0, 3, 1, 0, 3, 1, 3, 2, 3, 0, 2, 0,\n",
      "        2, 2, 0, 0, 0, 1, 1, 2, 2, 0, 0, 1, 0, 0, 0, 3, 3, 0, 1, 1, 3, 3,\n",
      "        3, 3, 0, 1, 3, 0, 2, 3, 2, 0, 3, 1, 2, 1, 3, 2, 1, 3, 3, 0, 2, 0,\n",
      "        1, 2, 0, 0, 2, 1, 0, 0, 0, 1, 1, 2, 1, 2, 1, 2, 3, 0, 2, 1, 1, 1,\n",
      "        2, 2, 0, 2, 1, 1, 1, 1, 2, 3, 3, 3, 0, 2, 0, 1, 1, 3, 1, 0, 0, 1,\n",
      "        1, 3, 1, 1, 2, 0, 1, 1, 1, 0, 0, 0, 0, 1, 0, 3, 3, 1, 3, 3, 3, 2,\n",
      "        1, 2, 0, 3, 3, 1, 1, 3, 0, 1, 1, 3, 0, 1, 3, 3, 0, 2, 1, 2, 1, 3,\n",
      "        1, 2, 3, 1, 0, 1, 2, 0, 3, 0, 2, 1, 2, 0, 0, 0, 2, 0, 2, 2, 1, 1,\n",
      "        3, 2, 3, 1, 0, 3, 2, 1, 2, 0, 0, 2, 0, 1, 3, 0, 0, 1, 2, 3, 3, 1,\n",
      "        0, 2, 1, 3, 1, 1, 0, 0, 2, 2, 2, 2, 0, 0, 1, 2, 1, 3, 0, 3, 0, 2,\n",
      "        0, 3, 0, 3, 3, 1, 2, 2, 1, 1, 1, 0, 3, 0, 3, 3, 0, 2, 3, 0, 2, 1,\n",
      "        1, 3, 1, 0, 1, 1, 0, 1, 1, 2, 3, 0, 2, 2, 3, 1, 3, 0, 3, 1, 3, 1,\n",
      "        0, 1, 2, 1, 1, 1, 0, 0, 2, 3, 2, 3, 2, 0, 2, 1, 0, 1, 3, 0, 1, 3,\n",
      "        0, 0, 3, 2, 3, 1, 2, 1, 1, 1, 2, 2, 0, 2, 2, 1, 3, 3, 2, 1, 3, 3,\n",
      "        3, 2, 2, 0, 0, 2, 1, 1, 0, 1, 2, 2, 2, 0, 2, 3, 0, 0, 0, 3, 1, 3,\n",
      "        3, 3, 0, 3, 2, 3, 0, 1, 3, 2, 2, 1, 3, 3, 3, 3, 0, 1, 0, 1, 1, 0,\n",
      "        3, 0, 1, 2, 2, 1, 0, 1, 1, 1, 3, 1, 2, 3, 0, 0, 0, 0, 1, 0, 1, 1,\n",
      "        0, 1, 0, 0, 3, 2, 3, 1, 3, 3, 0, 1, 2, 3, 0, 0, 1, 1, 0, 3, 3, 3,\n",
      "        0, 0, 1, 3, 0, 2, 3])                                             ]\n"
     ]
    },
    {
     "ename": "TypeError",
     "evalue": "only size-1 arrays can be converted to Python scalars",
     "output_type": "error",
     "traceback": [
      "\u001b[0;31m---------------------------------------------------------------------------\u001b[0m",
      "\u001b[0;31mTypeError\u001b[0m                                 Traceback (most recent call last)",
      "Cell \u001b[0;32mIn[16], line 20\u001b[0m\n\u001b[1;32m     18\u001b[0m a_in,b_in \u001b[38;5;241m=\u001b[39m RLWE(n\u001b[38;5;241m=\u001b[39mN,q\u001b[38;5;241m=\u001b[39mq,sigma\u001b[38;5;241m=\u001b[39msigma,s\u001b[38;5;241m=\u001b[39ms_ini,t\u001b[38;5;241m=\u001b[39mt,m\u001b[38;5;241m=\u001b[39mm0)\n\u001b[1;32m     19\u001b[0m \u001b[38;5;66;03m# Perform keyswitch\u001b[39;00m\n\u001b[0;32m---> 20\u001b[0m a_new, b_new \u001b[38;5;241m=\u001b[39m \u001b[43mkey_switch\u001b[49m\u001b[43m(\u001b[49m\u001b[43mn\u001b[49m\u001b[38;5;241;43m=\u001b[39;49m\u001b[43mN\u001b[49m\u001b[43m,\u001b[49m\u001b[43m \u001b[49m\u001b[43mq\u001b[49m\u001b[38;5;241;43m=\u001b[39;49m\u001b[43mq\u001b[49m\u001b[43m,\u001b[49m\u001b[43m \u001b[49m\u001b[43mB\u001b[49m\u001b[38;5;241;43m=\u001b[39;49m\u001b[43mB\u001b[49m\u001b[43m,\u001b[49m\u001b[43msigma\u001b[49m\u001b[38;5;241;43m=\u001b[39;49m\u001b[38;5;241;43m0.1\u001b[39;49m\u001b[43m,\u001b[49m\u001b[43m \u001b[49m\u001b[43mt\u001b[49m\u001b[38;5;241;43m=\u001b[39;49m\u001b[43mt\u001b[49m\u001b[43m,\u001b[49m\u001b[43ms\u001b[49m\u001b[38;5;241;43m=\u001b[39;49m\u001b[43ms_new\u001b[49m\u001b[43m,\u001b[49m\u001b[43m \u001b[49m\u001b[43ms_prime\u001b[49m\u001b[38;5;241;43m=\u001b[39;49m\u001b[43ms_ini\u001b[49m\u001b[43m,\u001b[49m\u001b[43m \u001b[49m\u001b[43ma_prime\u001b[49m\u001b[38;5;241;43m=\u001b[39;49m\u001b[43ma_in\u001b[49m\u001b[43m,\u001b[49m\u001b[43m \u001b[49m\u001b[43mb_prime\u001b[49m\u001b[38;5;241;43m=\u001b[39;49m\u001b[43mb_in\u001b[49m\u001b[43m)\u001b[49m\n\u001b[1;32m     21\u001b[0m \u001b[38;5;66;03m# decode\u001b[39;00m\n\u001b[1;32m     22\u001b[0m m_decoded \u001b[38;5;241m=\u001b[39m inv_RLWE(n\u001b[38;5;241m=\u001b[39mN, q\u001b[38;5;241m=\u001b[39mq, s\u001b[38;5;241m=\u001b[39ms_new, t\u001b[38;5;241m=\u001b[39mt, a\u001b[38;5;241m=\u001b[39ma_new, b\u001b[38;5;241m=\u001b[39mb_new)\n",
      "File \u001b[0;32m~/Documents/Bootstrapping/bootstrap.py:74\u001b[0m, in \u001b[0;36mkey_switch\u001b[0;34m(n, q, B, sigma, t, s, s_prime, a_prime, b_prime)\u001b[0m\n\u001b[1;32m     72\u001b[0m \u001b[38;5;66;03m# fill KS matrix\u001b[39;00m\n\u001b[1;32m     73\u001b[0m \u001b[38;5;28;01mfor\u001b[39;00m j,Bj \u001b[38;5;129;01min\u001b[39;00m \u001b[38;5;28menumerate\u001b[39m(powers):\n\u001b[0;32m---> 74\u001b[0m     temp \u001b[38;5;241m=\u001b[39m np\u001b[38;5;241m.\u001b[39mpoly1d( \u001b[38;5;28;43mint\u001b[39;49m\u001b[43m(\u001b[49m\u001b[43mBj\u001b[49m\u001b[38;5;241;43m*\u001b[39;49m\u001b[43ms_prime\u001b[49m\u001b[43m)\u001b[49m \u001b[38;5;241m%\u001b[39m q)\n\u001b[1;32m     75\u001b[0m     \u001b[38;5;66;03m# Encrypt the RLWE_s (B^j s')\u001b[39;00m\n\u001b[1;32m     76\u001b[0m     KS_ja, KS_jb \u001b[38;5;241m=\u001b[39m RLWE(n\u001b[38;5;241m=\u001b[39mn,q\u001b[38;5;241m=\u001b[39mq,sigma\u001b[38;5;241m=\u001b[39msigma,s\u001b[38;5;241m=\u001b[39ms,t\u001b[38;5;241m=\u001b[39mt,m\u001b[38;5;241m=\u001b[39mtemp)\n",
      "\u001b[0;31mTypeError\u001b[0m: only size-1 arrays can be converted to Python scalars"
     ]
    }
   ],
   "source": [
    "# security parameters\n",
    "N = int(2**9)\n",
    "q = int(2**8)\n",
    "B = int(2**2)\n",
    "\n",
    "sigma = 0.5\n",
    "t = 2\n",
    "\n",
    "s_ini = draw_from_binary(n=N)\n",
    "s_new = draw_from_binary(n=N)\n",
    "\n",
    "print(\"if s_ini==s_new:\",s_ini==s_new)\n",
    "# draw message\n",
    "m0 = draw_from_binary(n=int(2**3))\n",
    "print(\"m0=\",m0)\n",
    "\n",
    "# code with secret key s\n",
    "a_in,b_in = RLWE(n=N,q=q,sigma=sigma,s=s_ini,t=t,m=m0)\n",
    "# Perform keyswitch\n",
    "a_new, b_new = key_switch(n=N, q=q, B=B,sigma=0.1, t=t,s=s_new, s_prime=s_ini, a_prime=a_in, b_prime=b_in)\n",
    "# decode\n",
    "m_decoded = inv_RLWE(n=N, q=q, s=s_new, t=t, a=a_new, b=b_new)\n",
    "# print(\"m_decoded=\",m_decoded)"
   ]
  },
  {
   "cell_type": "code",
   "execution_count": null,
   "metadata": {},
   "outputs": [],
   "source": [
    "\n",
    "np.random.seed(1234)\n",
    "# security parameters\n",
    "N = int(2**5)\n",
    "q = int(2**6)\n",
    "B = int(2**2)\n",
    "\n",
    "print('k=',int(round(log(q,B))))\n",
    "sigma = 0\n",
    "t = 4\n",
    "\n",
    "s_ini = np.zeros(N)\n",
    "s_ini[0] = 1\n",
    "s_ini = s_ini.astype(int)\n",
    "\n",
    "s_new = draw_from_binary(n=N-1)\n",
    "\n",
    "# get matrix of Bootstrap Keys\n",
    "BK = get_BK(n=N,q=q,sigma=0,t=t,B=B,s=s_ini,s_prime=s_new)\n",
    "print('BK:', BK)\n"
   ]
  },
  {
   "cell_type": "code",
   "execution_count": null,
   "metadata": {},
   "outputs": [],
   "source": [
    "\n",
    "val = int(q/4)\n",
    "coef_W = np.zeros(N)\n",
    "coef_W[int(N/4):int(3*N/4)] = val\n",
    "W = np.poly1d(coef_W.astype(int))\n",
    "print('W:', W.coef)\n"
   ]
  },
  {
   "cell_type": "code",
   "execution_count": null,
   "metadata": {},
   "outputs": [],
   "source": [
    "\n",
    "# draw message\n",
    "m0 = np.array([0])\n",
    "m1 = np.array([1])\n",
    "print('m0:', m0)\n",
    "\n",
    "p = 0\n",
    "for _ in range(1): \n",
    "    a,b = LWE(n=N, q=q, sigma=0, s=s_ini, t=t, m=m0)\n",
    "    # Step 1. ACC-part to get RLWE under s_prime\n",
    "    a_prime, b_prime = accu_AP(n=N,q=q,B=B,a=a,b=b,w=W,BK=BK)\n",
    "    #print('b_prime =',b_prime.coef)\n",
    "    #print('coeff = ', inv_RLWE(n=N, q=q, s=s_new, t=t, a=a_prime, b=b_prime).coef)\n",
    "    result = inv_RLWE(n=N, q=q, s=s_new, t=t, a=a_prime, b=b_prime).coef[-1]\n",
    "    temp = mod(poly=b_prime-(a_prime*s_new),q=q,\n",
    "               poly_modulus=np.poly1d([1] + (int(N - 1) * [0]) + [1]))\n",
    "    print('temp', temp.coef)\n",
    "    print('result =', result)\n",
    "    p += result"
   ]
  },
  {
   "cell_type": "code",
   "execution_count": null,
   "metadata": {},
   "outputs": [],
   "source": [
    "b = 16\n",
    "monomial = np.poly1d([-1] + (N  - b) * [0])\n",
    "print(monomial.coef)\n",
    "mono = mod(poly=monomial*W,q=q,\n",
    "           poly_modulus=np.poly1d([1] + ((N - 1) * [0]) + [1]))"
   ]
  },
  {
   "cell_type": "code",
   "execution_count": null,
   "metadata": {},
   "outputs": [],
   "source": [
    "acc_a = np.poly1d([0])\n",
    "acc_b = mod(poly=(monomial*W),q=q,\n",
    "             poly_modulus=np.poly1d([1] + ((N - 1) * [0]) + [1]))"
   ]
  },
  {
   "cell_type": "code",
   "execution_count": null,
   "metadata": {},
   "outputs": [],
   "source": [
    "print('coeff = ', inv_RLWE(n=N, q=q, s=s_new, t=t, a=acc_a, b=acc_b).coef)\n",
    "result = inv_RLWE(n=N, q=q, s=s_new, t=t, a=acc_a, b=acc_b).coef[-1]"
   ]
  },
  {
   "cell_type": "code",
   "execution_count": null,
   "metadata": {},
   "outputs": [],
   "source": [
    "n = N\n",
    "# perform trivial RLWE(0,X^{-b} w(X))\n",
    "acc_a = np.poly1d([0])\n",
    "monomial = np.poly1d([-1] + (n - b) * [0])\n",
    "acc_b = mod(poly=(monomial*W),q=q,\n",
    "             poly_modulus=np.poly1d([1] + ((n - 1) * [0]) + [1]))\n",
    "# perform recursive blind rotations\n",
    "for i in range(n):\n",
    "    # perform external prod RLWE x RGSW\n",
    "    acc_a, acc_b = prod_ext(n=n,q=q,a=acc_a,b=acc_b,\n",
    "                            B=B,M=BK[i,a[i]])"
   ]
  },
  {
   "cell_type": "code",
   "execution_count": null,
   "metadata": {},
   "outputs": [],
   "source": [
    "p"
   ]
  },
  {
   "cell_type": "code",
   "execution_count": null,
   "metadata": {},
   "outputs": [],
   "source": [
    "# Step 3. Extract cipher LWE of coeff_0(RLWE_{s})\n",
    "a_0, b_0 = extract_RLWE(n=N,a=a_prime,b=b_prime,i_coeff=0)\n",
    "if len(s_new.coef)<N:\n",
    "    s_new_vec = np.insert(s_new.coef,0,(N-len(s_new.coef))*[0])\n",
    "else:\n",
    "    s_new_vec = s_new.coef\n",
    "# decode message under key s_new\n",
    "res = np.array([inv_LWE(n=N, q=q, s=s_new_vec, t=t, a=a_0, b=b_0) % 2])\n",
    "print(res)"
   ]
  }
 ],
 "metadata": {
  "kernelspec": {
   "display_name": "base",
   "language": "python",
   "name": "python3"
  },
  "language_info": {
   "codemirror_mode": {
    "name": "ipython",
    "version": 3
   },
   "file_extension": ".py",
   "mimetype": "text/x-python",
   "name": "python",
   "nbconvert_exporter": "python",
   "pygments_lexer": "ipython3",
   "version": "3.10.9"
  }
 },
 "nbformat": 4,
 "nbformat_minor": 2
}
